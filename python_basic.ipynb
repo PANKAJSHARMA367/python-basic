{
  "nbformat": 4,
  "nbformat_minor": 0,
  "metadata": {
    "colab": {
      "provenance": []
    },
    "kernelspec": {
      "name": "python3",
      "display_name": "Python 3"
    },
    "language_info": {
      "name": "python"
    }
  },
  "cells": [
    {
      "cell_type": "markdown",
      "source": [
        "\n",
        "#PYTHON BASIC\n",
        "\n"
      ],
      "metadata": {
        "id": "pux1e1z2lSu-"
      }
    },
    {
      "cell_type": "markdown",
      "source": [
        "1. Write a Python program to print \"Hello, World!_"
      ],
      "metadata": {
        "id": "9UDf1dk3c4xm"
      }
    },
    {
      "cell_type": "code",
      "source": [
        "print(\"hello world\")"
      ],
      "metadata": {
        "id": "gWcXujnvc7ke"
      },
      "execution_count": null,
      "outputs": []
    },
    {
      "cell_type": "markdown",
      "source": [
        "2.Write a Python program that displays your name and age"
      ],
      "metadata": {
        "id": "uQjktJZajZn4"
      }
    },
    {
      "cell_type": "code",
      "source": [
        "name=\"pankaj sharma\"\n",
        "age=20\n",
        "print(f\"My name is {name} and I am {age} years old.\")"
      ],
      "metadata": {
        "collapsed": true,
        "id": "DhKX64QhdKpM"
      },
      "execution_count": null,
      "outputs": []
    },
    {
      "cell_type": "markdown",
      "source": [
        "3.Write code to print all the pre-defined keywords in Python using the keyword library."
      ],
      "metadata": {
        "id": "ScjQHPY9ek_9"
      }
    },
    {
      "cell_type": "code",
      "source": [
        "help('keywords')"
      ],
      "metadata": {
        "id": "ReopDvF1ewbb"
      },
      "execution_count": null,
      "outputs": []
    },
    {
      "cell_type": "markdown",
      "source": [
        "4.Write a program that checks if a given word is a Python keyword.\n"
      ],
      "metadata": {
        "id": "sUHjmzu1fHY7"
      }
    },
    {
      "cell_type": "code",
      "source": [
        "s=True\n",
        "keyword.iskeyword(s)"
      ],
      "metadata": {
        "id": "foePYUKhfOXk"
      },
      "execution_count": null,
      "outputs": []
    },
    {
      "cell_type": "markdown",
      "source": [
        "5.Create a list and tuple in Python, and demonstrate how attempting to change an element works differently\n",
        "for each."
      ],
      "metadata": {
        "id": "MpZms5nfhWXU"
      }
    },
    {
      "cell_type": "code",
      "source": [
        "a=[\"pankaj\",\"lotus\",5,8,6]\n",
        "print(a)\n",
        "a.append(9)\n",
        "print(a)\n",
        "\n",
        "a=(\"paankaj\",9,8,7)\n",
        "print(a)\n",
        "a[7]=4\n",
        "print(a)\n"
      ],
      "metadata": {
        "id": "TNWxV6u1hbhb"
      },
      "execution_count": null,
      "outputs": []
    },
    {
      "cell_type": "markdown",
      "source": [
        "6.Write a function to demonstrate the behavior of mutable and immutable arguments."
      ],
      "metadata": {
        "id": "p7yPPIprhiBX"
      }
    },
    {
      "cell_type": "code",
      "source": [
        "a = [\"pankaj\", \"lotus\", 5, 8, 6]\n",
        "#mutable:-\n",
        "print(a)  # Original list\n",
        "\n",
        "# Adding an element at the end of the list\n",
        "a.append(9)\n",
        "print(a)  # List after adding the element.\n",
        "\n",
        "#immutable:-\n",
        "a=(\"paankaj\",9,8,7)\n",
        "print(a)\n",
        "#adding an element in tuple\n",
        "a[7]=4\n",
        "print(a)\n",
        "#shows error,tuple is immutable in nature.\n",
        "\n"
      ],
      "metadata": {
        "id": "7rkPPFbvhn-J"
      },
      "execution_count": null,
      "outputs": []
    },
    {
      "cell_type": "markdown",
      "source": [
        "7.Write a program to demonstrate the use of logical operators."
      ],
      "metadata": {
        "id": "7ThikS3jhuNG"
      }
    },
    {
      "cell_type": "code",
      "source": [
        "rainy=True\n",
        "umbrella=True\n",
        "if rainy and umbrella:\n",
        "    print(\"i will go outside\")"
      ],
      "metadata": {
        "id": "CVbi7IyaiQMe"
      },
      "execution_count": null,
      "outputs": []
    },
    {
      "cell_type": "markdown",
      "source": [
        "8.Write a Python program to convert user input from string to integer, float, and boolean types."
      ],
      "metadata": {
        "id": "vQU4Sz2IiQz9"
      }
    },
    {
      "cell_type": "code",
      "source": [
        "#cannot be change from string to integer, float and bollean.\n"
      ],
      "metadata": {
        "id": "FP_4odsLiSqC"
      },
      "execution_count": null,
      "outputs": []
    },
    {
      "cell_type": "markdown",
      "source": [
        "9.Write a Python program to convert user input from string to integer, float, and boolean types.\n"
      ],
      "metadata": {
        "id": "gfImHSmCiTPF"
      }
    },
    {
      "cell_type": "code",
      "source": [
        "#cannot be change from string to integer, float and bollean."
      ],
      "metadata": {
        "id": "c75_xfwi33lx"
      },
      "execution_count": null,
      "outputs": []
    },
    {
      "cell_type": "markdown",
      "source": [],
      "metadata": {
        "id": "XTPnmVkx33QQ"
      }
    },
    {
      "cell_type": "markdown",
      "source": [
        "10.Write code to demonstrate type casting with list elements."
      ],
      "metadata": {
        "id": "FU34EJGOifNZ"
      }
    },
    {
      "cell_type": "code",
      "source": [],
      "metadata": {
        "id": "8k_X13UmikdI"
      },
      "execution_count": null,
      "outputs": []
    },
    {
      "cell_type": "markdown",
      "source": [
        "11.Write a program that checks if a number is positive, negative, or zero."
      ],
      "metadata": {
        "id": "7Yx14wdhiksn"
      }
    },
    {
      "cell_type": "code",
      "source": [
        "num = float(input(\"Enter a number: \"))\n",
        "if num > 0:\n",
        "   print(\"Positive number\")\n",
        "elif num == 0:\n",
        "   print(\"Zero\")\n",
        "else:\n",
        "   print(\"Negative number\")\n"
      ],
      "metadata": {
        "id": "AkSEogzFirXY"
      },
      "execution_count": null,
      "outputs": []
    },
    {
      "cell_type": "markdown",
      "source": [
        "12. Write a for loop to print numbers from 1 to 10."
      ],
      "metadata": {
        "id": "8UT_BlXSirss"
      }
    },
    {
      "cell_type": "code",
      "source": [
        "for i in range(1, 11):\n",
        "    print(i)"
      ],
      "metadata": {
        "id": "bwU_UG1rixU3"
      },
      "execution_count": null,
      "outputs": []
    },
    {
      "cell_type": "markdown",
      "source": [
        "13.Write a Python program to find the sum of all even numbers between 1 and 50."
      ],
      "metadata": {
        "id": "yEeRg9ltixlG"
      }
    },
    {
      "cell_type": "code",
      "source": [
        "sum_even_numbers=0\n",
        "for i in range(1, 51):\n",
        "    if i % 2 == 0:  # Check if the number is even\n",
        "        sum_even_numbers += i  # Add the even number to the sum\n",
        "\n",
        "# Print the result\n",
        "print(\"The sum of all even numbers between 1 and 50 is:\",sum_even_numbers)"
      ],
      "metadata": {
        "id": "HZKHBq94i264"
      },
      "execution_count": null,
      "outputs": []
    },
    {
      "cell_type": "markdown",
      "source": [
        "14.Write a program to reverse a string using a while loop."
      ],
      "metadata": {
        "id": "WfW821Evi3Kd"
      }
    },
    {
      "cell_type": "code",
      "source": [
        "#don't know."
      ],
      "metadata": {
        "colab": {
          "base_uri": "https://localhost:8080/"
        },
        "id": "0maW89uPi8gb",
        "outputId": "3889d4fe-c0e4-495d-dc80-93778f673358"
      },
      "execution_count": 49,
      "outputs": [
        {
          "name": "stdout",
          "output_type": "stream",
          "text": [
            "Enter the name: pankaj\n"
          ]
        }
      ]
    },
    {
      "cell_type": "markdown",
      "source": [
        "15. Write a Python program to calculate the factorial of a number provided by the user using a while loop."
      ],
      "metadata": {
        "id": "X0opndMzi8x2"
      }
    },
    {
      "cell_type": "code",
      "source": [
        "#don't know."
      ],
      "metadata": {
        "id": "3k_ayMEujC7C"
      },
      "execution_count": null,
      "outputs": []
    }
  ]
}